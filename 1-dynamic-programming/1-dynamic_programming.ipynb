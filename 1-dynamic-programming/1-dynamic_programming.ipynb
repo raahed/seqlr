{
 "cells": [
  {
   "cell_type": "markdown",
   "id": "e51f3ab5-22c7-4ead-9169-494e12e73c1a",
   "metadata": {},
   "source": [
    "# Assignment 1: Dynamic Programming"
   ]
  },
  {
   "cell_type": "markdown",
   "id": "2b0361ad-79a6-4492-b080-ee8bcf8ca4de",
   "metadata": {},
   "source": [
    "---\n",
    "\n",
    "## Task 1) Edit Distances\n",
    "\n",
    "Implement the [Hamming](https://en.wikipedia.org/wiki/Hamming_distance) and [Levenshtein](https://en.wikipedia.org/wiki/Levenshtein_distance) (edit) distances and compute them for the for the following word pairs.\n",
    "It may help to compute them by hand first.\n",
    "\n",
    "<img src = \"./assets/97090.jpg\" width=\"33%\" /> <img src = \"./assets/97222.jpg\" width=\"33%\" /> <img src = \"./assets/97669.jpg\" width=\"33%\" />\n",
    "\n",
    "Aside from computing the distance (which is a scalar), do the backtrace and compute the edit transcript (and thus alignment).\n",
    "\n",
    "---"
   ]
  },
  {
   "cell_type": "code",
   "execution_count": null,
   "id": "b947e856-5284-4cf2-922f-c44268c365ac",
   "metadata": {},
   "outputs": [],
   "source": [
    "WORD_PAIRS = [\n",
    "    (\"GCGTATGAGGCTAACGC\", \"GCTATGCGGCTATACGC\"),\n",
    "    (\"kühler schrank\", \"schüler krank\"),\n",
    "    (\"the longest\", \"longest day\"),\n",
    "    (\"nicht ausgeloggt\", \"licht ausgenockt\"),\n",
    "    (\"gurken schaben\", \"schurkengaben\")\n",
    "]"
   ]
  },
  {
   "cell_type": "code",
   "execution_count": null,
   "id": "adb02c72",
   "metadata": {},
   "outputs": [],
   "source": [
    "def align(s1: str, s2: str) -> tuple[str, str]:\n",
    "    \"\"\"\"\n",
    "    Align two strings by padding the shorter string with spaces.\n",
    "    \"\"\"\n",
    "    max_len = max(len(s1), len(s2))\n",
    "    return (s1.ljust(max_len), s2.ljust(max_len))"
   ]
  },
  {
   "cell_type": "code",
   "execution_count": null,
   "id": "a7f504ef-3822-44fe-986f-88b4ca791017",
   "metadata": {},
   "outputs": [],
   "source": [
    "def hamming(s1: str, s2: str) -> int:\n",
    "    \"\"\"\n",
    "    Compute the hamming distance between two strings.\n",
    "\n",
    "    Arguments:\n",
    "    s1: First string of word pair.\n",
    "    s2: Second string of word pair.\n",
    "\n",
    "    Returns the distance as int.\n",
    "    \"\"\"\n",
    "    # Hint: Think about how you can deal with unequal word lengths.\n",
    "    \n",
    "    ### YOUR CODE HERE\n",
    "    s1, s2 = align(s1, s2)\n",
    "\n",
    "    d = 0\n",
    "\n",
    "    for i in range(len(s1)):\n",
    "        if s1[i] != s2[i]:\n",
    "            d += 1\n",
    "    \n",
    "    return d\n",
    "    ### END YOUR CODE"
   ]
  },
  {
   "cell_type": "code",
   "execution_count": null,
   "id": "11a59e5d-2bcc-40d6-b3b8-c24d886bc9a0",
   "metadata": {},
   "outputs": [],
   "source": [
    "for wordpair in WORD_PAIRS:\n",
    "    dist = hamming(s1=wordpair[0], s2=wordpair[1])\n",
    "    print(\"hamming('{}', '{}') = {}\".format(\n",
    "        wordpair[0], wordpair[1], dist\n",
    "    ))\n",
    "\n",
    "### EXPECTED\n",
    "# hamming('GCGTATGAGGCTAACGC', 'GCTATGCGGCTATACGC') = 10\n",
    "# hamming('kühler schrank', 'schüler krank') = 13\n",
    "# hamming('the longest', 'longest day') = 11\n",
    "# hamming('nicht ausgeloggt', 'licht ausgenockt') = 4\n",
    "# hamming('gurken schaben', 'schurkengaben') = 14"
   ]
  },
  {
   "cell_type": "code",
   "execution_count": null,
   "id": "ef05b1f2",
   "metadata": {},
   "outputs": [],
   "source": [
    "import numpy as np"
   ]
  },
  {
   "cell_type": "code",
   "execution_count": null,
   "id": "9791159e-0511-44d1-9e39-481942835d34",
   "metadata": {},
   "outputs": [],
   "source": [
    "def levenshtein(s1: str, s2: str, cost={'m': 0, 's': 1, 'i': 1, 'd': 1}) -> tuple[int, str]:\n",
    "    \"\"\"\n",
    "    Compute the levenshtein (edit) distance between two strings.\n",
    "\n",
    "    Arguments:\n",
    "    s1: First string of word pair.\n",
    "    s2: Second string of word pair.\n",
    "\n",
    "    Returns the distance as int and edit transcript as string.\n",
    "    \"\"\"\n",
    "    # Hint: The probably most intuitive approach is bottom-up.\n",
    "    \n",
    "    ### YOUR CODE HERE\n",
    "    x, y = len(s1), len(s2)\n",
    "    m = ''\n",
    "    D = np.zeros(shape=(x + 1, y + 1), dtype = int)\n",
    "    D[0, 1:] = range(1, y + 1)\n",
    "    D[1:, 0] = range(1, x + 1)\n",
    "    \n",
    "    # Fill the table\n",
    "    for i in range(1, x + 1):\n",
    "        for j in range(1, y + 1):\n",
    "            d = cost['m'] if s1[i - 1] == s2[j - 1] else cost['s']\n",
    "            u = D[i - 1, j] + cost['d']\n",
    "            l = D[i, j - 1] + cost['i']\n",
    "            ul = D[i - 1, j - 1] + d\n",
    "            D[i, j] = min(u, l, ul)\n",
    "\n",
    "    # Write the transcript\n",
    "    i, j = x, y\n",
    "    while i > 0 or j > 0:\n",
    "        c = D[i, j]\n",
    "        if i > 0 and c == D[i - 1, j] + cost['d']:\n",
    "            m += 'd'\n",
    "            i, j = i - 1, j     \n",
    "        elif j > 0 and c == D[i, j - 1] + cost['i']:\n",
    "            m += 'i'\n",
    "            i, j = i, j - 1\n",
    "        else:\n",
    "            if c == D[i - 1, j - 1] + cost['s'] and s1[i - 1] != s2[j - 1]:\n",
    "                m += 's'\n",
    "            else:\n",
    "                m += 'm'\n",
    "            i, j = i - 1, j - 1\n",
    "\n",
    "    return D[-1, -1], m[::-1]\n",
    "    ### END YOUR CODE"
   ]
  },
  {
   "cell_type": "code",
   "execution_count": null,
   "id": "b794add6-0ee0-4a64-a79f-4b0e68d3a7e5",
   "metadata": {},
   "outputs": [],
   "source": [
    "for wordpair in WORD_PAIRS:\n",
    "    dist, transcript = levenshtein(s1=wordpair[0], s2=wordpair[1])\n",
    "    print(\"levenshtein('{}', '{}') = {} ({})\".format(\n",
    "        wordpair[0], wordpair[1], dist, transcript\n",
    "    ))\n",
    "\n",
    "### EXPECTED\n",
    "# levenshtein('GCGTATGAGGCTAACGC', 'GCTATGCGGCTATACGC') = 3 (mmdmmmmsmmmmmimmmm)\n",
    "# levenshtein('kühler schrank', 'schüler krank') = 6 (ssmimmmmsddmmmm)\n",
    "# levenshtein('the longest', 'longest day') = 8 (ddddmmmmmmmiiii)\n",
    "# levenshtein('nicht ausgeloggt', 'licht ausgenockt') = 4 (smmmmmmmmmmsmssm)\n",
    "# levenshtein('gurken schaben', 'schurkengaben') = 7 (siimmmmmsdddmmmm)"
   ]
  },
  {
   "cell_type": "markdown",
   "id": "84084e8a-f48d-45a6-8f8d-199981dc0aa7",
   "metadata": {},
   "source": [
    "---\n",
    "\n",
    "## Task 2) Basic Spelling Correction using Edit Distance\n",
    "\n",
    "For spelling correction, we will use prior knowledge, to put _some_ learning into our system.\n",
    "\n",
    "The underlying idea is the _Noisy Channel Model_, that is: The user _intends_ to write a word `w`, but through some noise in the process, happens to type the word `x`.\n",
    "\n",
    "The correct word $\\hat{w}$ is that word, that is a valid candidate and has the highest probability:\n",
    "\n",
    "$$\n",
    "\\begin{eqnarray}\n",
    "\\DeclareMathOperator*{\\argmax}{argmax}\n",
    "\\hat{w} & = & \\argmax_{w \\in V} P(w | x) \\\\\n",
    "        & = & \\argmax_{w \\in V} \\frac{P(x|w) P(w)}{P(x)} \\\\\n",
    "        & = & \\argmax_{w \\in V} P(x|w) P(w)\n",
    "\\end{eqnarray}\n",
    "$$\n",
    "\n",
    "1. The candidates $V$ can be obtained from a _vocabulary_.\n",
    "2. The probability $P(w)$ of a word $w$ can be _learned (counted) from data_.\n",
    "3. The probability $P(x|w)$ is more complicated... It could be learned from data, but we could also use a _heuristic_ that relates to the edit distance, e.g. rank by distance.\n",
    "\n",
    "You may use [Peter Norvig's count_1w.txt](http://norvig.com/ngrams/) file, [local mirror](res/count_1w.tar.bz2).\n",
    "Note that it may help to restrict to the first 10k words to get started.\n",
    "\n",
    "---"
   ]
  },
  {
   "cell_type": "code",
   "execution_count": null,
   "id": "a7190fb5-93c5-456b-835b-32a73d0f3fde",
   "metadata": {},
   "outputs": [],
   "source": [
    "EXAMPLES = [\n",
    "    \"pirates\",    # in-voc\n",
    "    \"pirutes\",    # pirates?\n",
    "    \"continoisly\",  # continuosly?\n",
    "]"
   ]
  },
  {
   "cell_type": "code",
   "execution_count": null,
   "id": "08adedf6",
   "metadata": {},
   "outputs": [],
   "source": [
    "import pandas as pd"
   ]
  },
  {
   "cell_type": "code",
   "execution_count": null,
   "id": "ce0ead32-59de-42c4-b488-a56001931fbc",
   "metadata": {},
   "outputs": [],
   "source": [
    "### TODO: Prepare the vocabulary\n",
    "\n",
    "### YOUR CODE HERE\n",
    "V = pd.read_csv('data/count_1w.txt', delimiter='\\t', header=None, names=['word', 'counting'], dtype={'word': str, 'counting': int})\n",
    "V['score'] = V['counting'] / np.sum(V['counting'])\n",
    "V = V.drop('counting', axis=1).head(10000)\n",
    "### END YOUR CODE"
   ]
  },
  {
   "cell_type": "code",
   "execution_count": null,
   "id": "f88150c8-3d00-483e-8682-1f6720d2a28a",
   "metadata": {},
   "outputs": [],
   "source": [
    "def suggest(w: str, dist_fn, max_cand=5) -> list[tuple[str, int, int]]:\n",
    "    \"\"\"\n",
    "    Compute suggestions for spelling correction using edit distance.\n",
    "    \n",
    "    Arguments:\n",
    "    w: Word in question.\n",
    "    dist_fn: Distance function to use (e.g. levenshtein).\n",
    "    max_cand: Maximum number of suggestions.\n",
    "\n",
    "    Returns a list of tuples (word, dist, score) sorted by score and distance.\n",
    "    \"\"\"\n",
    "    ### YOUR CODE HERE\n",
    "    df = V.copy()\n",
    "    df['dist'] = df['word'].apply(lambda x: dist_fn(w, str(x))[0])\n",
    "    df.sort_values(by=['dist', 'score'], inplace=True)\n",
    "    df = df[['word', 'dist', 'score']]\n",
    "    return [tuple(r) for r in df.head(max_cand).to_numpy()]\n",
    "    ### END YOUR CODE"
   ]
  },
  {
   "cell_type": "code",
   "execution_count": null,
   "id": "5f5490ca-969c-4a93-aaf0-8cdb3433ff6e",
   "metadata": {},
   "outputs": [],
   "source": [
    "# How does your suggest function behave with levenshtein distance?\n",
    "\n",
    "for word in EXAMPLES:\n",
    "    suggestions = suggest(w=word, dist_fn=levenshtein, max_cand=3)\n",
    "    print(\"{} {}\".format(word, suggestions))\n",
    "\n",
    "### EXPECTED\n",
    "### Notice: your scores may vary!\n",
    "# pirates [('pirates', 0, -11.408058827802126)]\n",
    "# pirutes [('pirates', 1, -11.408058827802126), ('minutes', 2, -8.717825438953103), ('viruses', 2, -11.111468702571859)]\n",
    "# continoisly [('continously', 1, -15.735337826575178), ('continuously', 2, -11.560071979871001), ('continuosly', 2, -17.009283000138204)]"
   ]
  },
  {
   "cell_type": "markdown",
   "id": "34aa2e00-a1dd-46e5-90c0-2f3eea3cb031",
   "metadata": {},
   "source": [
    "### Food for Thought\n",
    "\n",
    "- How would you modify the implementation so that it works fast for large lexica (eg. the full file above)?\n",
    "- How would you modify the implementation so that it works \"while typing\" instead of at the end of a word?\n",
    "- How do you handle unknown/new words?"
   ]
  },
  {
   "cell_type": "markdown",
   "id": "a183c2b3-7cee-420e-bb08-5748dbfed5dc",
   "metadata": {},
   "source": [
    "---\n",
    "\n",
    "## Task 3) Needleman-Wunsch: Keyboard-aware Auto-Correct\n",
    "\n",
    "In the parts 1 and 2 above, we applied uniform cost to all substitutions.\n",
    "This does not really make sense if you look at a keyboard: the QWERTY layout will favor certain substitutions (eg. _a_ and _s_), while others are fairly unlikely (eg. _a_ and _k_).\n",
    "\n",
    "Implement the [Needleman-Wunsch algorithm](https://en.wikipedia.org/wiki/Needleman–Wunsch_algorithm) which is very similar to the [Levenshtein distance](https://en.wikipedia.org/wiki/Levenshtein_distance), however it doesn't _minimize the cost_ but _maximizes the similarity_.\n",
    "For a good measure of similarity, implement a metric that computes a meaningful weight for a given character substitution.\n",
    "\n",
    "---"
   ]
  },
  {
   "cell_type": "code",
   "execution_count": null,
   "id": "23709626-6af8-41ae-b713-f0d8c7b117e2",
   "metadata": {},
   "outputs": [],
   "source": [
    "def keyboardsim(s1: str, s2: str) -> float:\n",
    "    ### YOUR CODE HERE\n",
    "    s1, s2 = align(s1, s2)\n",
    "    score = 0.0\n",
    "    for i in range(len(s1)):\n",
    "        score += ord(s2[i]) - ord(s1[i])\n",
    "\n",
    "    return score / len(s1)\n",
    "    ### END YOUR CODE\n",
    "\n",
    "\n",
    "def nw(s1: str, s2: str, d: float, sim_fn) -> float:\n",
    "    \"\"\"\n",
    "    Apply needleman-wunsch algorithm.\n",
    "    \n",
    "    Arguments:\n",
    "    s1: First string of word pair.\n",
    "    s2: Second string of word pair.\n",
    "    d: Gap penalty score.\n",
    "    sim_fn: Similarity function to use.\n",
    "\n",
    "    Returns the score as float.\n",
    "    \"\"\"\n",
    "    ### YOUR CODE HERE\n",
    "    x, y = len(s1), len(s2)\n",
    "    D = np.zeros(shape=(x + 1, y + 1), dtype = float)\n",
    "    D[0, 1:] = range(1, y + 1); D[0, 1:] = D[0, 1:] * d\n",
    "    D[1:, 0] = range(1, x + 1); D[1:, 0] = D[1:, 0] * d\n",
    "\n",
    "    # Fill the table\n",
    "    for i in range(1, x + 1):\n",
    "        for j in range(1, y + 1):\n",
    "            u = D[i - 1, j] + d\n",
    "            l = D[i, j - 1] + d\n",
    "            ul = D[i - 1, j - 1] + sim_fn(s1[i - 1 ], s2[j - 1])\n",
    "            D[i, j] = max(u, l, ul)\n",
    "    \n",
    "    return D[-1, -1]\n",
    "    ### END YOUR CODE\n",
    "\n",
    "\n",
    "def nw_based_dist(s1: str, s2: str) -> tuple[int, str]:\n",
    "    \"\"\"\n",
    "    Compute the needleman-wunsch distance between two strings.\n",
    "    \n",
    "    Arguments:\n",
    "    s1: First string of word pair.\n",
    "    s2: Second string of word pair.\n",
    "    \n",
    "    Returns the distance as int and <unsupported> string.\n",
    "    \"\"\"\n",
    "    ### YOUR CODE HERE\n",
    "    dist = nw(s1, s2, d = 1.0, sim_fn = keyboardsim)\n",
    "    return round(dist), \"<unsupported>\"\n",
    "    ### END YOUR CODE"
   ]
  },
  {
   "cell_type": "code",
   "execution_count": null,
   "id": "2f510005-f578-4afa-99a3-9a389fd86069",
   "metadata": {},
   "outputs": [],
   "source": [
    "# How does your suggest function behave with nw and a keyboard-aware similarity?\n",
    "\n",
    "for word in EXAMPLES:\n",
    "    suggestions = suggest(w=word, dist_fn=nw_based_dist, max_cand=3)\n",
    "    print(\"{} {}\".format(word, suggestions))"
   ]
  },
  {
   "cell_type": "markdown",
   "id": "bf63b759-ba2d-4ad1-9011-f0067e968688",
   "metadata": {},
   "source": [
    "### Food for Thought\n",
    "\n",
    "- What could be better heuristics for similarity resp. cost of substitution than the one above?\n",
    "- What about capitalization, punctiation and special characters?\n",
    "- What about swipe-to-type?"
   ]
  },
  {
   "cell_type": "markdown",
   "id": "1d26abf0",
   "metadata": {},
   "source": []
  }
 ],
 "metadata": {
  "kernelspec": {
   "display_name": "Python 3",
   "language": "python",
   "name": "python3"
  },
  "language_info": {
   "codemirror_mode": {
    "name": "ipython",
    "version": 3
   },
   "file_extension": ".py",
   "mimetype": "text/x-python",
   "name": "python",
   "nbconvert_exporter": "python",
   "pygments_lexer": "ipython3",
   "version": "3.10.12"
  }
 },
 "nbformat": 4,
 "nbformat_minor": 5
}
